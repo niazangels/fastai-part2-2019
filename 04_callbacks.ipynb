{
 "cells": [
  {
   "cell_type": "code",
   "execution_count": 1,
   "metadata": {},
   "outputs": [],
   "source": [
    "%load_ext autoreload\n",
    "%autoreload 2\n",
    "\n",
    "%matplotlib inline"
   ]
  },
  {
   "cell_type": "code",
   "execution_count": 2,
   "metadata": {},
   "outputs": [],
   "source": [
    "#export\n",
    "from exp.nb_03 import *\n",
    "import torch.nn.functional as F"
   ]
  },
  {
   "cell_type": "code",
   "execution_count": 3,
   "metadata": {},
   "outputs": [
    {
     "name": "stdout",
     "output_type": "stream",
     "text": [
      "File mnist.pkl.gz already exists in data\n"
     ]
    }
   ],
   "source": [
    "x_train,y_train,x_valid,y_valid = get_data()\n",
    "ds_train,ds_valid = Dataset(x_train, y_train),Dataset(x_valid, y_valid)"
   ]
  },
  {
   "cell_type": "code",
   "execution_count": 4,
   "metadata": {},
   "outputs": [],
   "source": [
    "nh = 50\n",
    "bs = 64"
   ]
  },
  {
   "cell_type": "code",
   "execution_count": 5,
   "metadata": {},
   "outputs": [],
   "source": [
    "c = y_train.max().item() + 1\n",
    "loss_func = F.cross_entropy"
   ]
  },
  {
   "cell_type": "code",
   "execution_count": 6,
   "metadata": {},
   "outputs": [],
   "source": [
    "class DataBunch:\n",
    "    def __init__(self, dl_train, dl_valid, c):\n",
    "        self.dl_train = dl_train\n",
    "        self.dl_valid = dl_valid\n",
    "        self.c = c\n",
    "    \n",
    "    @property\n",
    "    def ds_train(self):\n",
    "        return self.dl_train.dataset\n",
    "    @property\n",
    "    def ds_valid(self):\n",
    "        return self.dl_valid.dataset"
   ]
  },
  {
   "cell_type": "code",
   "execution_count": 7,
   "metadata": {},
   "outputs": [],
   "source": [
    "data = DataBunch(*get_dls(ds_train, ds_valid, bs), 10)"
   ]
  },
  {
   "cell_type": "code",
   "execution_count": 8,
   "metadata": {},
   "outputs": [],
   "source": [
    "def get_model(data, lr=0.5, nh=50):\n",
    "    n_in = data.ds_train.x.shape[1]\n",
    "    model = nn.Sequential(nn.Linear(n_in, nh), nn.ReLU(), nn.Linear(nh, data.c))\n",
    "    opt = optim.SGD(model.parameters(), lr)\n",
    "    return model, opt"
   ]
  },
  {
   "cell_type": "code",
   "execution_count": 9,
   "metadata": {},
   "outputs": [],
   "source": [
    "class Learner:\n",
    "    def __init__(self, model, opt, loss_func, data):\n",
    "        self.model = model\n",
    "        self.opt = opt\n",
    "        self.loss_func = loss_func\n",
    "        self.data = data"
   ]
  },
  {
   "cell_type": "code",
   "execution_count": 10,
   "metadata": {},
   "outputs": [],
   "source": [
    "model, opt = get_model(data)\n",
    "learn = Learner(model, opt, loss_func, data)"
   ]
  },
  {
   "cell_type": "code",
   "execution_count": 11,
   "metadata": {},
   "outputs": [],
   "source": [
    "from IPython.core.debugger import set_trace"
   ]
  },
  {
   "cell_type": "code",
   "execution_count": 12,
   "metadata": {},
   "outputs": [],
   "source": [
    "def fit(epochs, learn):\n",
    "    for epoch in range(epochs):\n",
    "        learn.model.train()\n",
    "        for xb, yb in data.dl_train:\n",
    "            preds = learn.model(xb)\n",
    "            loss = learn.loss_func(preds, yb)\n",
    "            loss.backward()\n",
    "            learn.opt.step()\n",
    "            learn.opt.zero_grad()\n",
    "        \n",
    "        learn.model.eval()\n",
    "        tot_correct = tot_loss = tot_seen = 0\n",
    "        with torch.no_grad():\n",
    "            for xb, yb in learn.data.dl_valid:\n",
    "                preds = model(xb)\n",
    "                loss = learn.loss_func(preds, yb)\n",
    "                tot_correct += accuracy(preds, yb).item() * len(xb)\n",
    "                tot_loss += loss.item() * len(xb)\n",
    "                tot_seen += len(xb)\n",
    "            print(f\"Acc:{tot_correct/tot_seen:<10}| Loss:{(tot_loss/tot_seen)}\")"
   ]
  },
  {
   "cell_type": "code",
   "execution_count": 13,
   "metadata": {},
   "outputs": [
    {
     "name": "stdout",
     "output_type": "stream",
     "text": [
      "Acc:0.9455    | Loss:0.1830093701004982\n",
      "Acc:0.9432    | Loss:0.2086206769734621\n",
      "Acc:0.9258    | Loss:0.27368702373206616\n",
      "Acc:0.9135    | Loss:0.3156489304423332\n",
      "Acc:0.936     | Loss:0.2227689310312271\n"
     ]
    }
   ],
   "source": [
    "fit(5, learn)"
   ]
  },
  {
   "cell_type": "markdown",
   "metadata": {},
   "source": [
    "## Callback Handler"
   ]
  },
  {
   "cell_type": "code",
   "execution_count": 14,
   "metadata": {},
   "outputs": [],
   "source": [
    "# Without callbacks\n",
    "def one_batch(xb,yb):\n",
    "    pred = model(xb)\n",
    "    loss = loss_func(pred, yb)\n",
    "    loss.backward()\n",
    "    opt.step()\n",
    "    opt.zero_grad()\n",
    "\n",
    "def fit():\n",
    "    for epoch in range(epochs):\n",
    "        for b in train_dl: one_batch(*b)"
   ]
  },
  {
   "cell_type": "code",
   "execution_count": 15,
   "metadata": {},
   "outputs": [],
   "source": [
    "def onebatch(xb, yb, cbh):\n",
    "    if not cbh.begin_batch(xb, yb): \n",
    "        return\n",
    "    preds = cbh.learn.model(xb)\n",
    "    loss = cbh.learn.loss_func(preds, yb)\n",
    "    if not cbh.in_train:\n",
    "        return\n",
    "    if not cbh.after_loss(loss):\n",
    "        return\n",
    "    loss.backward()\n",
    "    if cbh.after_backward():\n",
    "        cbh.learn.opt.step()\n",
    "    if cbh.after_step():\n",
    "        cbh.learn.opt.zero_grad()\n",
    "        \n",
    "def all_batches(dl, cbh):\n",
    "    for xb, yb in dl:\n",
    "        onebatch(xb, yb, cbh)\n",
    "        if cbh.do_stop():\n",
    "            return\n",
    "\n",
    "def fit(epochs, learn, cbh):\n",
    "    if not cbh.begin_fit(learn): \n",
    "        return\n",
    "    for epoch in range(epochs):\n",
    "        if not cbh.begin_epoch(epoch):\n",
    "            continue        \n",
    "        all_batches(learn.data.dl_train, cbh)\n",
    "        if cbh.begin_validate():\n",
    "            with torch.no_grad():\n",
    "                all_batches(learn.data.dl_valid, cbh)\n",
    "        if cbh.do_stop() or not cbh.after_epoch():\n",
    "            break\n",
    "    cbh.after_fit()"
   ]
  },
  {
   "cell_type": "code",
   "execution_count": 16,
   "metadata": {},
   "outputs": [],
   "source": [
    "class Callback():\n",
    "    def begin_fit(self, learn):\n",
    "        self.learn = learn\n",
    "        return True\n",
    "    def after_fit(self):\n",
    "        return True\n",
    "    def begin_epoch(self, epoch):\n",
    "        self.epoch = epoch\n",
    "        return True\n",
    "    def after_epoch(self):\n",
    "        return True\n",
    "    def begin_validate(self):\n",
    "        return True\n",
    "    def begin_batch(self, xb, yb):\n",
    "        self.xb = xb\n",
    "        self.yb = yb\n",
    "        return True\n",
    "    def after_loss(self, loss):\n",
    "        self.loss = loss\n",
    "        return True\n",
    "    def after_backward(self):\n",
    "        return True\n",
    "    def after_step(self):\n",
    "        return True"
   ]
  },
  {
   "cell_type": "code",
   "execution_count": 20,
   "metadata": {},
   "outputs": [],
   "source": [
    "class CallbackHandler():\n",
    "    def __init__(self, cbs):\n",
    "        self.cbs = cbs if cbs else []\n",
    "    \n",
    "    def begin_fit(self, learn):\n",
    "        self.learn = learn\n",
    "        self.in_train = True\n",
    "        learn.stop = False\n",
    "        res = True\n",
    "        for cb in self.cbs:\n",
    "            res = res and cb.begin_fit(learn)\n",
    "        return res\n",
    "    \n",
    "    def after_fit(self):\n",
    "        res = not self.in_train\n",
    "        for cb in self.cbs:\n",
    "            res = res and cb.after_fit()\n",
    "        return res\n",
    "    \n",
    "    def begin_epoch(self, epoch):\n",
    "        self.learn.model.train()\n",
    "        self.in_train = True\n",
    "        res = True\n",
    "        for cb in self.cbs:\n",
    "            res = res and cb.begin_epoch(epoch)\n",
    "        return res\n",
    "\n",
    "    def after_epoch(self):\n",
    "        res = True\n",
    "        for cb in self.cbs:\n",
    "            res = res and cb.after_epoch()\n",
    "        return res\n",
    "    \n",
    "    def begin_validate(self):\n",
    "        self.learn.model.eval()\n",
    "        self.in_train = False\n",
    "        res = True\n",
    "        for cb in self.cbs:\n",
    "            res = res and cb.begin_validate()\n",
    "        return res\n",
    "\n",
    "    def begin_batch(self, xb, yb):\n",
    "        res = True\n",
    "        for cb in self.cbs:\n",
    "            res = res and cb.begin_batch(xb, yb)\n",
    "        return res\n",
    "    \n",
    "    def after_loss(self, loss):\n",
    "        res = True\n",
    "        for cb in self.cbs:\n",
    "            res = res and cb.after_loss(loss)\n",
    "        return res\n",
    "\n",
    "    def after_backward(self):\n",
    "        res=True\n",
    "        for cb in self.cbs:\n",
    "            res = res and cb.after_backward()\n",
    "        return res\n",
    "\n",
    "    def after_step(self):\n",
    "        res = True\n",
    "        for cb in self.cbs:\n",
    "            res = res and cb.after_step()\n",
    "        return res\n",
    "\n",
    "    def do_stop(self):\n",
    "        try:\n",
    "            return self.learn.stop\n",
    "        finally:\n",
    "            self.learn.stop = False"
   ]
  },
  {
   "cell_type": "code",
   "execution_count": 21,
   "metadata": {},
   "outputs": [],
   "source": [
    "class TestCallback(Callback):\n",
    "    def begin_fit(self, learn):\n",
    "        self.n_iter = 0\n",
    "        super().begin_fit(learn)\n",
    "        return True\n",
    "    \n",
    "    def after_step(self):\n",
    "        self.n_iter += 1\n",
    "        print(self.n_iter)\n",
    "        if self.n_iter>=10:\n",
    "            self.learn.stop = True\n",
    "        return True"
   ]
  },
  {
   "cell_type": "code",
   "execution_count": 22,
   "metadata": {},
   "outputs": [
    {
     "name": "stdout",
     "output_type": "stream",
     "text": [
      "1\n",
      "2\n",
      "3\n",
      "4\n",
      "5\n",
      "6\n",
      "7\n",
      "8\n",
      "9\n",
      "10\n"
     ]
    }
   ],
   "source": [
    "custom_callbacks = [TestCallback()]\n",
    "fit(1, learn, cbh=CallbackHandler(custom_callbacks))"
   ]
  },
  {
   "cell_type": "code",
   "execution_count": null,
   "metadata": {},
   "outputs": [],
   "source": []
  }
 ],
 "metadata": {
  "kernelspec": {
   "display_name": "Python 3",
   "language": "python",
   "name": "python3"
  },
  "language_info": {
   "codemirror_mode": {
    "name": "ipython",
    "version": 3
   },
   "file_extension": ".py",
   "mimetype": "text/x-python",
   "name": "python",
   "nbconvert_exporter": "python",
   "pygments_lexer": "ipython3",
   "version": "3.6.8"
  }
 },
 "nbformat": 4,
 "nbformat_minor": 4
}
